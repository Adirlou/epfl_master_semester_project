{
 "cells": [
  {
   "cell_type": "markdown",
   "metadata": {},
   "source": [
    "# Introduction\n",
    "\n",
    "This notebook contains the code, for running the circuit explained in the report. To run it easily, upload it on your IBMQ account and run it directly from their website (it will make it easier to run on the actual quantum computers).\n",
    "\n",
    "Some parts of the code were insipred by the code done at https://github.com/nelimee/quantum-hhl-4x4/blob/master/hhl4x4/4x4.py (it will be indicated), an implementation of the solution of a 4x4 system. The only difference is that in their implementation, they get an approximate solution to the problem. Here, we will find the exact solution to a specific 2x2 system."
   ]
  },
  {
   "cell_type": "markdown",
   "metadata": {},
   "source": [
    "# Problem statement\n",
    "\n",
    "Here, we chose to design an HHL to solve the following system:\n",
    "\n",
    "   $ A = \\begin{bmatrix}\n",
    "    4 & 1 \\\\\n",
    "    1 & 4 \\\\\n",
    "\\end{bmatrix}, \\textbf{b} = \\begin{bmatrix}\n",
    "    1 \\\\\n",
    "    0 \n",
    "\\end{bmatrix}$\n",
    "\n",
    "The solution to the problem $A\\textbf{x} = \\textbf{b}$ is $\\textbf{x} = \\begin{bmatrix}\n",
    "    4/15 \\\\\n",
    "    -1/15 \\end{bmatrix}$, and the normalized state (the one output by the HHL circuit) should be $\\tilde{\\textbf{x}} = \\begin{bmatrix}\n",
    "    4/\\sqrt{17} \\\\\n",
    "    -1/\\sqrt{17} \\end{bmatrix}$.\n",
    "    \n",
    "Note that this is a specific problem, and as such, the design of the Quantum Phase Estimation (QPE) and the controlled Y rotations will depend on it.\n",
    "\n",
    "For a full review of this specific case, please read section 8 of the report."
   ]
  },
  {
   "cell_type": "markdown",
   "metadata": {},
   "source": [
    "# Imports"
   ]
  },
  {
   "cell_type": "code",
   "execution_count": 29,
   "metadata": {},
   "outputs": [
    {
     "name": "stderr",
     "output_type": "stream",
     "text": [
      "Credentials are already in use. The existing account in the session will be replaced.\n"
     ]
    }
   ],
   "source": [
    "%matplotlib inline\n",
    "\n",
    "# Imports for Qiskit\n",
    "from qiskit import QuantumCircuit, execute, Aer, IBMQ\n",
    "from qiskit.compiler import transpile, assemble\n",
    "from qiskit.tools.jupyter import *\n",
    "from qiskit.visualization import *\n",
    "from qiskit import *\n",
    "\n",
    "# Various imports \n",
    "import numpy as np\n",
    "\n",
    "from copy import deepcopy\n",
    "from matplotlib import pyplot as plt\n",
    "\n",
    "# Load IBMQ account\n",
    "provider = IBMQ.load_account()"
   ]
  },
  {
   "cell_type": "markdown",
   "metadata": {},
   "source": [
    "# Functions to be used"
   ]
  },
  {
   "cell_type": "code",
   "execution_count": 47,
   "metadata": {},
   "outputs": [],
   "source": [
    "def qft(circ, q, n):\n",
    "    \"\"\"Perform a n-bit QFT on specified quantum register in specified circuit.\n",
    "    \n",
    "    :circ: The circuit in which the QFT is performed\n",
    "    :q: The quantum register on which to perform the QFT\n",
    "    :n: The number of bits\"\"\"\n",
    "    \n",
    "    # Put the gates of the QFT circuit\n",
    "    for j in range(n):\n",
    "        circ.h(q[j])\n",
    "        for k in range(j+1,n):\n",
    "            circ.cu1(np.pi/float(2**(k-j)), q[k], q[j])\n",
    "    \n",
    "    # Swap qubits\n",
    "    for j in range(n//2):\n",
    "        circ.swap(q[j], q[n-j-1])\n",
    "        \n",
    "def inv_qft(circ, q, n):\n",
    "    \"\"\"Perform an n-bit inverse QFT on specified quantum register in specified circuit.\n",
    "    \n",
    "    :circ: The circuit in which the QFT is performed\n",
    "    :q: The quantum register on which to perform the QFT\n",
    "    :n: the number of bits\"\"\"\n",
    "    \n",
    "    # Swap qubits\n",
    "    for j in range(n//2):\n",
    "        circ.swap(q[j], q[n-j-1])\n",
    "        \n",
    "    # Put the gates of the inverse QFT circuit\n",
    "    for j in reversed(range(n)):\n",
    "        for k in reversed(range(j+1,n)):\n",
    "            circ.cu1(-np.pi/float(2**(k-j)), q[k], q[j])\n",
    "        circ.h(q[j])"
   ]
  },
  {
   "cell_type": "code",
   "execution_count": 60,
   "metadata": {},
   "outputs": [],
   "source": [
    "def n_cry(circ, theta, control_qubits, target_qubit, inv = False):\n",
    "    \"\"\"Performs a n-controlled Y rotations of angle theta (n can be 1, 2 or 3).\n",
    "    \n",
    "    :circ: The circuit in which to perform the controlled rotations\n",
    "    :theta: The angle of rotation\n",
    "    :control_qubits: the qubits to be used as control (can be a list or quanutm register) but\n",
    "                     the size of the register must be 1, 2 or 3\n",
    "    :target_qubit: The target qubit\n",
    "    :inv: To be set to True if the target qubit is above the control qubits in the circuit\"\"\"\n",
    "    \n",
    "    # Convert specified control qubits to a list\n",
    "    control_list = control_qubits[:]\n",
    "    size = len(control_list)\n",
    "    \n",
    "    \n",
    "    if size > 3:\n",
    "        print('Argument n is invalid!')\n",
    "    else:\n",
    "            \n",
    "        if size == 1:\n",
    "            circ.cry(theta, control_qubits[0], target_qubit)\n",
    "        else:\n",
    "            # To understand this part, please check section 6.3.1 of the report\n",
    "            \n",
    "            new_controls = control_qubits[:-1] if inv else control_qubits[1:]\n",
    "            \n",
    "            circ.mct(control_qubits, target_qubit, None, mode='advanced')\n",
    "            n_cry(circ, -theta/2, new_controls, target_qubit, inv)\n",
    "            circ.mct(control_qubits, target_qubit, None, mode='advanced')\n",
    "            n_cry(circ, theta/2, new_controls, target_qubit, inv)"
   ]
  },
  {
   "cell_type": "code",
   "execution_count": 49,
   "metadata": {},
   "outputs": [],
   "source": [
    "def postselect(statevector, qubit_number, value: bool):\n",
    "    \"\"\"Given a quantum state which is a tensor product of multiple qubits,\n",
    "    compute the quantum state that would result if a specified qubit was found\n",
    "    to be 1 or 0. \n",
    "    (Inspired by https://github.com/nelimee/quantum-hhl-4x4/blob/master/hhl4x4/4x4.py,\n",
    "    but slightly changed so that it better works)\n",
    "    \n",
    "    :statevector: The quantum state\n",
    "    :qubit_number: The index of the qubit to be set to 1 or 0\n",
    "    :value: The value to which the specified qubit is set\n",
    "    \"\"\"\n",
    "    \n",
    "    # Define a mask depending on the specified qubit\n",
    "    mask = 1 << qubit_number\n",
    "    \n",
    "    # Depending on the desired value of the qubit, update the quantum state\n",
    "    if value:\n",
    "        array_mask = np.arange(len(statevector)) & mask\n",
    "        array_mask = (array_mask != 0)\n",
    "    else:\n",
    "        array_mask = np.logical_not(np.arange(len(statevector)) & mask)\n",
    "        \n",
    "    def normalize(v):\n",
    "        norm = np.linalg.norm(v)\n",
    "        if norm == 0: \n",
    "           return v\n",
    "        return v / norm\n",
    "    \n",
    "    # Return a normalized quantum state\n",
    "    return normalize(statevector[array_mask])"
   ]
  },
  {
   "cell_type": "markdown",
   "metadata": {},
   "source": [
    "The two following functions are designed for our problem specifically. Should the problem be different, the QPE circuit and HHL circuits should be adapted appropriately.\n",
    "\n",
    "For how to design such circuits (more specifically controlled rotations in HHL), please read section section 6 and 8 of the report."
   ]
  },
  {
   "cell_type": "code",
   "execution_count": 50,
   "metadata": {},
   "outputs": [],
   "source": [
    "def qpe(circ, clock_reg, target):\n",
    "    \"\"\"Create the QPE circuit for our specific problem.\n",
    "    \n",
    "    :circ: The circuit in which the QPE is performed\n",
    "    :clock_reg: The quantum register holding the eigenvalues\n",
    "    :target: The qubit on which the successive powers of the operator is applied\"\"\"\n",
    "    \n",
    "    # Perform a Hadamard Transform\n",
    "    circ.h(clock_reg)\n",
    "    \n",
    "    # Apply successive powers of our operator\n",
    "    circuit.h(target)\n",
    "    circuit.crz(3*np.pi/2, clock_reg[2], target)\n",
    "    circuit.h(target)\n",
    "    \n",
    "    circuit.h(target)\n",
    "    circuit.crz(-np.pi, clock_reg[1], target)\n",
    "    circuit.h(target)\n",
    "    \n",
    "    circuit.crz(2*np.pi, clock_reg[0], target)\n",
    "    \n",
    "    # Perform an inverse QFT on the register holding the eigenvalues\n",
    "    inv_qft(circuit, clock_reg, 3)\n",
    "    \n",
    "def inv_qpe(circ, clock_reg, target):\n",
    "    \"\"\"Create the inverse QPE circuit for our specific problem.\n",
    "    \n",
    "    :circ: The circuit in which the QPE is performed\n",
    "    :clock_reg: The quantum register holding the eigenvalues\n",
    "    :target: The qubit on which the successive powers of the operator is applied\"\"\"\n",
    "    \n",
    "    # Perform a QFT on the register holding the eigenvalues\n",
    "    qft(circuit, clock_reg, 3)\n",
    "    \n",
    "    # Apply successive powers of our operator (in reverse)\n",
    "    circuit.crz(-2*np.pi, clock_reg[0], target)\n",
    "    \n",
    "    circuit.h(target)\n",
    "    circuit.crz(np.pi, clock_reg[1], target)\n",
    "    circuit.h(target)\n",
    "    \n",
    "    circuit.h(target)\n",
    "    circuit.crz(-3*np.pi/2, clock_reg[2], target)\n",
    "    circuit.h(target)\n",
    "    \n",
    "    # Perform a Hadamard Transform\n",
    "    circ.h(clock_reg)"
   ]
  },
  {
   "cell_type": "code",
   "execution_count": 51,
   "metadata": {},
   "outputs": [],
   "source": [
    "def hhl(circ, ancilla_reg, clock_reg, input_reg, measurement_reg):\n",
    "    \"\"\"Create the HHL circuit for our specific problem.\n",
    "    \n",
    "    :circ: The circuit in which the QPE is performed\n",
    "    :ancilla_reg: The quantum register holding the ancilla qubit\n",
    "    :clock_reg: The quantum register holding the eigenvalues\n",
    "    :input_reg: The quantum register holding the input (what we call |b>)\n",
    "    :measurement_reg: The classical register holding the results of the mesurements\"\"\"\n",
    "    \n",
    "    # Perform the QPE designed specifically for our problem\n",
    "    qpe(circ, clock_reg, input_reg)\n",
    "    \n",
    "    # Perform the controlled Y-rotations (for a better understanding of\n",
    "    # where the numbers come from, please check section 8 of the report)\n",
    "    circuit.cry(2.89385, clock_reg[1], ancilla_reg[0])\n",
    "    circuit.cry(1.69612, clock_reg[0], ancilla_reg[0])\n",
    "    n_cry(circuit, 0.24774, clock_reg[1:], ancilla_reg[0], inv=True)\n",
    "    n_cry(circuit, -0.40912, clock_reg[::2], ancilla_reg[0], inv=True)\n",
    "    n_cry(circuit, -3.54277, clock_reg[:2], ancilla_reg[0], inv=True)\n",
    "    \n",
    "    # Perform the inverse QPE specifically designed for our problem\n",
    "    inv_qpe(circ, clock_reg, input_reg)\n"
   ]
  },
  {
   "cell_type": "markdown",
   "metadata": {},
   "source": [
    "# Circuit Creation"
   ]
  },
  {
   "cell_type": "markdown",
   "metadata": {},
   "source": [
    "Here, we create the circuit to be used. Note that visually, the ancilla qubit is on top, followed by the clock register (register holding the eigenvalues), followed by the input qubit (which at the end of the circuit contains the solution, conditioned on the ancilla being 1).\n",
    "\n",
    "This is important, as when we will do the conditioning on the ancilla qubit later, we need to specified the index of the qubit to be conditioned. In our case, the index will be 0 (since the ancilla is on top)."
   ]
  },
  {
   "cell_type": "code",
   "execution_count": 52,
   "metadata": {},
   "outputs": [],
   "source": [
    "# Create the various registers needed\n",
    "clock_reg = QuantumRegister(3, name='clock')\n",
    "input_reg = QuantumRegister(1, name='input')\n",
    "ancilla_reg = QuantumRegister(1, name='ancilla')\n",
    "measurement_reg = ClassicalRegister(2, name='c')\n",
    "\n",
    "# Create an empty circuit with the specified registers\n",
    "circuit = QuantumCircuit(ancilla_reg, clock_reg, input_reg, measurement_reg)"
   ]
  },
  {
   "cell_type": "code",
   "execution_count": 53,
   "metadata": {},
   "outputs": [
    {
     "data": {
      "text/plain": [
       "<qiskit.circuit.instructionset.InstructionSet at 0x7f51d9de8790>"
      ]
     },
     "execution_count": 53,
     "metadata": {},
     "output_type": "execute_result"
    }
   ],
   "source": [
    "# Add the HHL circuit to the circuit\n",
    "hhl(circuit, ancilla_reg, clock_reg, input_reg, measurement_reg)\n",
    "\n",
    "# Save a version of the circuit with no measurement (useful for getting exact quantum state in simulator)\n",
    "circuit_no_measure = deepcopy(circuit)\n",
    "\n",
    "# Add measurements to the original circuit (for running on quantum computers)\n",
    "circuit.measure(ancilla_reg, measurement_reg[0])\n",
    "circuit.measure(input_reg, measurement_reg[1])"
   ]
  },
  {
   "cell_type": "markdown",
   "metadata": {},
   "source": [
    "Below, we draw the full circuit:"
   ]
  },
  {
   "cell_type": "code",
   "execution_count": null,
   "metadata": {},
   "outputs": [],
   "source": [
    "circuit.draw()"
   ]
  },
  {
   "cell_type": "markdown",
   "metadata": {},
   "source": [
    "# Results"
   ]
  },
  {
   "cell_type": "markdown",
   "metadata": {},
   "source": [
    "## On simulator, getting exact quantum state"
   ]
  },
  {
   "cell_type": "markdown",
   "metadata": {},
   "source": [
    "We first run the circuit with \"statevector_simulator\" to try to retrieve the values of the quantum states, in order to get the actual solution."
   ]
  },
  {
   "cell_type": "code",
   "execution_count": 54,
   "metadata": {},
   "outputs": [
    {
     "name": "stdout",
     "output_type": "stream",
     "text": [
      "Exact solution: [ 4 -1]\n",
      "Experimental solution: [ 3.99999935-6.22282218e-15j -1.00000261+0.00000000e+00j]\n",
      "Error in found solution: 2.6892192924235157e-06\n"
     ]
    }
   ],
   "source": [
    "# Use  QASM simulator\n",
    "simulator = qiskit.BasicAer.get_backend('statevector_simulator')\n",
    "\n",
    "# The code below was inspired by https://github.com/nelimee/quantum-hhl-4x4/blob/master/hhl4x4/4x4.py,\n",
    "# but slightly changed\n",
    "\n",
    "# Compute the result of the simulation\n",
    "res_state = execute([circuit_no_measure], simulator).result()\n",
    "\n",
    "# Get the output vector (all qubits included)\n",
    "full_state = res_state.get_statevector()\n",
    "\n",
    "# Get the output vector conditioned on ancilla value being 1\n",
    "statevector = postselect(full_state, 0, value=1)\n",
    "\n",
    "# This is hardcoded, in our case, need to select first and ninth\n",
    "# element of the statevector to recover the solution\n",
    "# These are the amplitudes for the value of x being 0 or 1,\n",
    "# and values all 0 for the clock register, which in the final\n",
    "# vector is on coordinates 0 and 8 \n",
    "# (compute the tensor product of qubits to see why if unclear).\n",
    "selector = np.zeros(16)\n",
    "selector[0] = 1\n",
    "selector[8] = 1\n",
    "selector = (selector != 0)\n",
    "\n",
    "# Get the output for qubit containing solution\n",
    "x_experimental = statevector[selector]\n",
    "\n",
    "# Multiply the quantum state of solution by constant to get the\n",
    "# right answer (recall HHL gives a solution proportional to the true one)\n",
    "solution = np.sqrt(17) * x_experimental\n",
    "\n",
    "# The actual solution\n",
    "x_exact = np.array([4, -1])\n",
    "\n",
    "print(\"Exact solution: {}\".format(x_exact))\n",
    "print(\"Experimental solution: {}\".format(solution))\n",
    "print(\"Error in found solution: {}\".format(np.linalg.norm(solution - x_exact)))"
   ]
  },
  {
   "cell_type": "markdown",
   "metadata": {},
   "source": [
    "We note that as expected, on the simulator we get the exact correct solution. Below, we show the amplitudes of the final state (when no conditioning is done on the ancilla qubit)."
   ]
  },
  {
   "cell_type": "code",
   "execution_count": 55,
   "metadata": {},
   "outputs": [
    {
     "data": {
      "image/png": "[encoded data removed]",
      "text/plain": [
       "<Figure size 864x360 with 1 Axes>"
      ]
     },
     "metadata": {
      "needs_background": "light"
     },
     "output_type": "display_data"
    }
   ],
   "source": [
    "# The code below was inspired by https://github.com/nelimee/quantum-hhl-4x4/blob/master/hhl4x4/4x4.py,\n",
    "# but slightly changed to have a better visualization\n",
    "\n",
    "n_states = len(full_state)\n",
    "x_axis_values = np.arange(n_states)\n",
    "x_axis_binary = [' '.join(bin(n)[3:])[::-1] for n in np.arange(n_states, 2 * n_states)]\n",
    "\n",
    "plt.figure(figsize=(12, 5))\n",
    "plt.grid(color='gray', linewidth =0.2)\n",
    "plt.bar(x_axis_values, np.real(full_state))\n",
    "plt.xticks(x_axis_values, x_axis_binary, rotation='vertical')\n",
    "plt.ylabel('Real amplitude')\n",
    "plt.xlabel('State')\n",
    "plt.show()"
   ]
  },
  {
   "cell_type": "markdown",
   "metadata": {},
   "source": [
    "## On simulator, getting statistics of measurements"
   ]
  },
  {
   "cell_type": "markdown",
   "metadata": {},
   "source": [
    "Here, we run the circuit, but this time using the \"qasm_simulator\" and getting the statistics of measurements."
   ]
  },
  {
   "cell_type": "code",
   "execution_count": 56,
   "metadata": {},
   "outputs": [
    {
     "data": {
      "image/png": "[encoded data removed]",
      "text/plain": [
       "<Figure size 504x360 with 1 Axes>"
      ]
     },
     "execution_count": 56,
     "metadata": {},
     "output_type": "execute_result"
    }
   ],
   "source": [
    "# Execute the circuit using the simulator\n",
    "simulator = qiskit.BasicAer.get_backend('qasm_simulator')\n",
    "job = execute(circuit, backend=simulator, shots=65536)\n",
    "\n",
    "#Get the result of the execution\n",
    "result = job.result()\n",
    "\n",
    "# Get the counts, the frequency of each answer\n",
    "counts = result.get_counts(circuit)\n",
    "\n",
    "# Display the results\n",
    "plot_histogram(counts)"
   ]
  },
  {
   "cell_type": "markdown",
   "metadata": {},
   "source": [
    "Note that here, rescaling after conditioning on the ancilla qubit being one, we get an estimated probability of $0.641 / (0.641 + 0.04) \\approx 0.941$ of measuring 0 for $|x>$ and an estimated probability of $0.04 / (0.641 + 0.04) \\approx 0.059$ of measuring 1, as expected for our problem.\n",
    "\n",
    "Indeed recall the expected solution to be $\\tilde{\\textbf{x}} = \\begin{bmatrix}\n",
    "    4/\\sqrt{17} \\\\\n",
    "    -1/\\sqrt{17} \\end{bmatrix}$, and so the probability of getting 0 is $|4/\\sqrt{17}|^2 \\approx 0.941$ and the probability of getting 1 is $|-1/\\sqrt{17}|^2 \\approx 0.059$."
   ]
  },
  {
   "cell_type": "markdown",
   "metadata": {},
   "source": [
    "## On IBM's computers, getting statistics of measurements"
   ]
  },
  {
   "cell_type": "markdown",
   "metadata": {},
   "source": [
    "Here, we run the circuit, but this time using one of IBM's quantum computer and getting the statistics of measurements."
   ]
  },
  {
   "cell_type": "code",
   "execution_count": 57,
   "metadata": {},
   "outputs": [
    {
     "data": {
      "text/plain": [
       "[<IBMQSimulator('ibmq_qasm_simulator') from IBMQ(hub='ibm-q', group='open', project='main')>,\n",
       " <IBMQBackend('ibmqx2') from IBMQ(hub='ibm-q', group='open', project='main')>,\n",
       " <IBMQBackend('ibmq_16_melbourne') from IBMQ(hub='ibm-q', group='open', project='main')>,\n",
       " <IBMQBackend('ibmq_vigo') from IBMQ(hub='ibm-q', group='open', project='main')>,\n",
       " <IBMQBackend('ibmq_ourense') from IBMQ(hub='ibm-q', group='open', project='main')>,\n",
       " <IBMQBackend('ibmq_london') from IBMQ(hub='ibm-q', group='open', project='main')>,\n",
       " <IBMQBackend('ibmq_burlington') from IBMQ(hub='ibm-q', group='open', project='main')>,\n",
       " <IBMQBackend('ibmq_essex') from IBMQ(hub='ibm-q', group='open', project='main')>,\n",
       " <IBMQBackend('ibmq_armonk') from IBMQ(hub='ibm-q', group='open', project='main')>]"
      ]
     },
     "execution_count": 57,
     "metadata": {},
     "output_type": "execute_result"
    }
   ],
   "source": [
    "IBMQ.get_provider(hub='ibm-q')\n",
    "provider.backends()"
   ]
  },
  {
   "cell_type": "code",
   "execution_count": 58,
   "metadata": {},
   "outputs": [
    {
     "name": "stdout",
     "output_type": "stream",
     "text": [
      "Job Status: job has successfully run\n"
     ]
    }
   ],
   "source": [
    "# Choose the backend on which to run the circuit\n",
    "backend = provider.get_backend('ibmq_essex')\n",
    "\n",
    "from qiskit.tools.monitor import job_monitor\n",
    "\n",
    "# Execute the job\n",
    "job_exp = execute(circuit, backend=backend, shots=8192)\n",
    "\n",
    "# Monitor the job to know where we are in the queue\n",
    "job_monitor(job_exp, interval = 2)"
   ]
  },
  {
   "cell_type": "code",
   "execution_count": 61,
   "metadata": {},
   "outputs": [
    {
     "data": {
      "image/png": "[encoded data removed]",
      "text/plain": [
       "<Figure size 504x360 with 1 Axes>"
      ]
     },
     "execution_count": 61,
     "metadata": {},
     "output_type": "execute_result"
    }
   ],
   "source": [
    "# Get the results from the computation\n",
    "results = job_exp.result()\n",
    "\n",
    "# Get the statistics\n",
    "answer = results.get_counts(circuit)\n",
    "\n",
    "# Plot the results\n",
    "plot_histogram(answer)"
   ]
  },
  {
   "cell_type": "markdown",
   "metadata": {},
   "source": [
    "Note that here, rescaling after conditioning on the ancilla qubit being one, we get an estimated probability of $0.201 / (0.201 + 0.212) \\approx 0.487$ of measuring 0 for $|x>$ and an estimated probability of $0.212 / (0.201 + 0.212) \\approx 0.513$ of measuring 1, which is not close to the expected solution.\n",
    "\n",
    "Indeed recall the expected solution to be $\\tilde{\\textbf{x}} = \\begin{bmatrix}\n",
    "    4/\\sqrt{17} \\\\\n",
    "    -1/\\sqrt{17} \\end{bmatrix}$, and so the probability of getting 0 is $|4/\\sqrt{17}|^2 \\approx 0.941$ and the probability of getting 1 is $|-1/\\sqrt{17}|^2 \\approx 0.059$.\n",
    "    \n",
    "This can be explained by the fact that our circuit contains many gates and such, a lot of noise is introduced resulting in a corrupted solution."
   ]
  }
 ],
 "metadata": {
  "kernelspec": {
   "display_name": "Python 3",
   "language": "python",
   "name": "python3"
  },
  "language_info": {
   "codemirror_mode": {
    "name": "ipython",
    "version": 3
   },
   "file_extension": ".py",
   "mimetype": "text/x-python",
   "name": "python",
   "nbconvert_exporter": "python",
   "pygments_lexer": "ipython3",
   "version": "3.7.6"
  }
 },
 "nbformat": 4,
 "nbformat_minor": 2
}
